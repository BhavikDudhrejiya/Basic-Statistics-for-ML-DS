{
 "cells": [
  {
   "cell_type": "code",
   "execution_count": 89,
   "metadata": {},
   "outputs": [],
   "source": [
    "#Importing libraries\n",
    "import statistics as st\n",
    "import numpy as np\n",
    "from scipy import stats"
   ]
  },
  {
   "cell_type": "code",
   "execution_count": 45,
   "metadata": {},
   "outputs": [
    {
     "data": {
      "text/plain": [
       "[1, 2, 3, 4, 5, 6, 7, 8, 9, 9, 10]"
      ]
     },
     "execution_count": 45,
     "metadata": {},
     "output_type": "execute_result"
    }
   ],
   "source": [
    "#Creating data list\n",
    "    x = [1,2,3,4,5,6,7,8,9,9,10]\n",
    "x"
   ]
  },
  {
   "cell_type": "code",
   "execution_count": 50,
   "metadata": {},
   "outputs": [
    {
     "name": "stdout",
     "output_type": "stream",
     "text": [
      "Mean = 5.818181818181818\n",
      "Median =  6\n",
      "Median Low =  6\n",
      "Median High =  6\n",
      "Mode =  9\n",
      "Standard Deviation =  3.060005941764879\n",
      "Variance =  9.363636363636363\n",
      "First Quartile = 3.5\n",
      "Second Quartile = 6.0\n",
      "Third Quartile = 8.5\n"
     ]
    }
   ],
   "source": [
    "#Computing mean\n",
    "print('Mean =',st.mean(x))\n",
    "#Computing median\n",
    "print('Median = ',st.median(x))\n",
    "#Computing median low\n",
    "print('Median Low = ',st.median_low(x))\n",
    "#Computing median high\n",
    "print('Median High = ',st.median_high(x))\n",
    "#Computing mode\n",
    "print('Mode = ',st.mode(x))\n",
    "#Computing standard deviation\n",
    "print('Standard Deviation = ',st.stdev(x))\n",
    "#Computing variance\n",
    "print('Variance = ',st.variance(x))\n",
    "#Computing 1st quartile rage\n",
    "Q1 = np.percentile(x,25)\n",
    "print('First Quartile =',Q1)\n",
    "Q2 = np.percentile(x,50)\n",
    "print('Second Quartile =', Q2)\n",
    "Q3 = np.percentile(x,75)\n",
    "print('Third Quartile =',Q3)"
   ]
  },
  {
   "cell_type": "code",
   "execution_count": 54,
   "metadata": {},
   "outputs": [
    {
     "data": {
      "image/png": "[encoded data removed]",
      "text/plain": [
       "<Figure size 1152x648 with 1 Axes>"
      ]
     },
     "metadata": {
      "needs_background": "light"
     },
     "output_type": "display_data"
    }
   ],
   "source": [
    "#Creating box plot\n",
    "import matplotlib.pyplot as plt\n",
    "plt.figure(figsize=(16,9))\n",
    "plt.boxplot(x, vert=False);\n",
    "plt.axvline(3.5,linestyle = '--', c = 'g')\n",
    "plt.axvline(6,linestyle = '--')\n",
    "plt.axvline(8.5,linestyle = '--', c = 'g')\n",
    "plt.show()"
   ]
  },
  {
   "cell_type": "code",
   "execution_count": 74,
   "metadata": {},
   "outputs": [
    {
     "data": {
      "text/plain": [
       "array([[1, 2, 4],\n",
       "       [3, 5, 2],\n",
       "       [2, 1, 9]])"
      ]
     },
     "execution_count": 74,
     "metadata": {},
     "output_type": "execute_result"
    }
   ],
   "source": [
    "#Creating 2D matrix\n",
    "matrix = np.array([[1,2,4],\n",
    "                  [3,5,2],\n",
    "                  [2,1,9]])\n",
    "matrix"
   ]
  },
  {
   "cell_type": "code",
   "execution_count": 84,
   "metadata": {},
   "outputs": [
    {
     "name": "stdout",
     "output_type": "stream",
     "text": [
      "3.2222222222222223\n",
      "2.0\n",
      "2.3934065809486684\n",
      "5.728395061728396\n",
      "2.0\n",
      "2.0\n",
      "4.0\n",
      "[1.5 1.5 3. ]\n",
      "[1.5 2.5 1.5]\n",
      "[2. 2. 4.]\n",
      "[2. 3. 2.]\n",
      "[2.5 3.5 6.5]\n",
      "[3.  4.  5.5]\n"
     ]
    }
   ],
   "source": [
    "#Computing\n",
    "print(np.mean(matrix))#Mean\n",
    "print(np.median(matrix)) #1,1,2,2,2,3,3,5,9 median is 2\n",
    "print(np.std(matrix))#Standard Deviation\n",
    "print(np.var(matrix))#Variance\n",
    "print(np.percentile(matrix,25)) #1st Quartile\n",
    "print(np.percentile(matrix,50)) #2nd Quartile\n",
    "print(np.percentile(matrix,75)) #3rd Quartile\n",
    "print(np.percentile(matrix,25,axis = 0)) \n",
    "#1,3,2 - two smallest no. is 1,2 = 1+2/2 = 1.5\n",
    "#2,5,1 - two smallest no. is 2,1 = 2+1/2 = 1.5\n",
    "#4,2,9 - two smallest no. is 4,2 = 6/2 = 3\n",
    "print(np.percentile(matrix,25,axis = 1))\n",
    "#1,2,4 - two smallest no. is 1,2 = 1+2/2 = 1.5\n",
    "#3,5,2 - two smallest no. is 3,2 = 3+2/2 = 2.5\n",
    "#2,1,9 - two smallest no. is 2,1 = 2+1/2 = 1.5\n",
    "print(np.percentile(matrix,50,axis = 0))\n",
    "print(np.percentile(matrix,50,axis = 1))\n",
    "print(np.percentile(matrix,75,axis = 0))\n",
    "print(np.percentile(matrix,75,axis = 1))\n"
   ]
  },
  {
   "cell_type": "code",
   "execution_count": 94,
   "metadata": {},
   "outputs": [
    {
     "name": "stdout",
     "output_type": "stream",
     "text": [
      "ModeResult(mode=array([[1, 1, 2]]), count=array([[1, 1, 1]]))\n",
      "ModeResult(mode=array([[1, 1, 2]]), count=array([[1, 1, 1]]))\n",
      "ModeResult(mode=array([[1],\n",
      "       [2],\n",
      "       [1]]), count=array([[1],\n",
      "       [1],\n",
      "       [1]]))\n",
      "ModeResult(mode=array([2]), count=array([3]))\n"
     ]
    }
   ],
   "source": [
    "#[1, 2, 4]\n",
    "#[3, 5, 2]\n",
    "#[2, 1, 9]\n",
    "\n",
    "print(stats.mode(matrix))\n",
    "#Smallest value in [1,3,2] is 1 where number of occurance is 1\n",
    "#Smallest value in [2,5,1] is 1 where number of occurance is 1\n",
    "#Smallest value in [4,2,9] is 2 where number of occurance is 1\n",
    "print(stats.mode(matrix,axis = 0))\n",
    "print(stats.mode(matrix,axis = 1))\n",
    "#Smallest value in [1,2,4] is 1 where number of occurance is 1\n",
    "#Smallest value in [3,5,2] is 2 where number of occurance is 1\n",
    "#Smallest value in [2,1,9] is 1 where number of occurance is 1\n",
    "print(stats.mode(matrix,axis = None)) #It takes whole matrix number and find mode"
   ]
  }
 ],
 "metadata": {
  "kernelspec": {
   "display_name": "Python 3",
   "language": "python",
   "name": "python3"
  },
  "language_info": {
   "codemirror_mode": {
    "name": "ipython",
    "version": 3
   },
   "file_extension": ".py",
   "mimetype": "text/x-python",
   "name": "python",
   "nbconvert_exporter": "python",
   "pygments_lexer": "ipython3",
   "version": "3.8.6"
  },
  "toc": {
   "base_numbering": 1,
   "nav_menu": {},
   "number_sections": true,
   "sideBar": true,
   "skip_h1_title": false,
   "title_cell": "Table of Contents",
   "title_sidebar": "Contents",
   "toc_cell": false,
   "toc_position": {},
   "toc_section_display": true,
   "toc_window_display": false
  }
 },
 "nbformat": 4,
 "nbformat_minor": 4
}
