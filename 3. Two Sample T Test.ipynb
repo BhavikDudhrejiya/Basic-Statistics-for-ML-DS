{
 "cells": [
  {
   "cell_type": "markdown",
   "metadata": {},
   "source": [
    "Checking whether both group have same mean or different.\n",
    "\n",
    "Hypothesis:\n",
    "- H0 - Both group have same mean\n",
    "- H1 - Both group have different mean\n",
    "\n",
    "Criteria:\n",
    "if p value<=0.05 - Both have same mean\n",
    "if p value >0.05 - Both have different mean"
   ]
  },
  {
   "cell_type": "code",
   "execution_count": 25,
   "metadata": {},
   "outputs": [],
   "source": [
    "#Importing libraries\n",
    "from scipy.stats import ttest_ind\n",
    "import numpy as np\n",
    "from scipy.stats import t"
   ]
  },
  {
   "cell_type": "code",
   "execution_count": 2,
   "metadata": {},
   "outputs": [],
   "source": [
    "#Loading data\n",
    "Field1 = np.array([15.2,15.3,16.0,15.8,15.6,14.9,15.0,15.4,15.6,15.7,15.5,15.2,15.5,15.1,15.3,15.0])\n",
    "Field2 = np.array([15.9,15.9,15.2,16.6,15.2,15.8,15.8,16.2,15.6,15.6,15.8,15.5,15.5,15.5,14.9,15.9])"
   ]
  },
  {
   "cell_type": "code",
   "execution_count": 3,
   "metadata": {},
   "outputs": [
    {
     "name": "stdout",
     "output_type": "stream",
     "text": [
      "15.381250000000001 15.68125\n"
     ]
    }
   ],
   "source": [
    "#Checking mean\n",
    "print(Field1.mean(), Field2.mean())"
   ]
  },
  {
   "cell_type": "code",
   "execution_count": 4,
   "metadata": {},
   "outputs": [
    {
     "name": "stdout",
     "output_type": "stream",
     "text": [
      "T Statistics: -2.338821384818735\n",
      "P Value: 0.026198051170501974\n",
      "Accept H0 - Both have same mean\n"
     ]
    }
   ],
   "source": [
    "#Performing two sample T test\n",
    "ttest,pval = ttest_ind(Field1,Field2)\n",
    "print('T Statistics:', ttest)\n",
    "print('P Value:', pval)\n",
    "if pval<=0.05:\n",
    "    print('Accept H0 - Both have same mean')\n",
    "else:\n",
    "    print('Accept H1 - Both have different mean')"
   ]
  },
  {
   "cell_type": "markdown",
   "metadata": {},
   "source": [
    "# Manual"
   ]
  },
  {
   "cell_type": "code",
   "execution_count": 28,
   "metadata": {},
   "outputs": [],
   "source": [
    "Field1_mean = Field1.mean()\n",
    "Field2_mean = Field2.mean()\n",
    "Field1_std = Field1.std()\n",
    "Field2_std = Field2.std()\n",
    "Field1_n = len(Field1)-1\n",
    "Field2_n = len(Field2)-1"
   ]
  },
  {
   "cell_type": "code",
   "execution_count": 29,
   "metadata": {},
   "outputs": [
    {
     "data": {
      "text/plain": [
       "-2.338821384818735"
      ]
     },
     "execution_count": 29,
     "metadata": {},
     "output_type": "execute_result"
    }
   ],
   "source": [
    "#Computing two sample t test\n",
    "ttest = (Field1_mean-Field2_mean) / np.sqrt((Field1_std**2/Field1_n)+(Field2_std**2/Field2_n))\n",
    "ttest"
   ]
  },
  {
   "cell_type": "code",
   "execution_count": 31,
   "metadata": {},
   "outputs": [
    {
     "data": {
      "text/plain": [
       "0.026198051170501974"
      ]
     },
     "execution_count": 31,
     "metadata": {},
     "output_type": "execute_result"
    }
   ],
   "source": [
    "#Computing p value from test statistic\n",
    "t_dist = t(Field1_n+Field2_n)\n",
    "2*t_dist.cdf(ttest)"
   ]
  }
 ],
 "metadata": {
  "kernelspec": {
   "display_name": "Python 3",
   "language": "python",
   "name": "python3"
  },
  "language_info": {
   "codemirror_mode": {
    "name": "ipython",
    "version": 3
   },
   "file_extension": ".py",
   "mimetype": "text/x-python",
   "name": "python",
   "nbconvert_exporter": "python",
   "pygments_lexer": "ipython3",
   "version": "3.8.6"
  },
  "toc": {
   "base_numbering": 1,
   "nav_menu": {},
   "number_sections": true,
   "sideBar": true,
   "skip_h1_title": false,
   "title_cell": "Table of Contents",
   "title_sidebar": "Contents",
   "toc_cell": false,
   "toc_position": {},
   "toc_section_display": true,
   "toc_window_display": false
  }
 },
 "nbformat": 4,
 "nbformat_minor": 4
}
