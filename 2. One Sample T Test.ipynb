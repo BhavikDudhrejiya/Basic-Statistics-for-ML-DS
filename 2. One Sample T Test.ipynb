{
 "cells": [
  {
   "cell_type": "code",
   "execution_count": 5,
   "metadata": {},
   "outputs": [],
   "source": [
    "#Importing libraries\n",
    "from scipy.stats import ttest_1samp\n",
    "import numpy as np\n",
    "from scipy.stats import t"
   ]
  },
  {
   "cell_type": "code",
   "execution_count": 6,
   "metadata": {},
   "outputs": [],
   "source": [
    "#Data\n",
    "ages = np.array([32,34,29,29,22,39,38,37,38,36,30,26,22,22])"
   ]
  },
  {
   "cell_type": "markdown",
   "metadata": {},
   "source": [
    "Checking whether average age is 30 or not.\n",
    "\n",
    "Hypothesis:\n",
    "- H0 - Average age is 30.\n",
    "- H1 - Average age is not 30."
   ]
  },
  {
   "cell_type": "code",
   "execution_count": 29,
   "metadata": {},
   "outputs": [
    {
     "name": "stdout",
     "output_type": "stream",
     "text": [
      "31.0\n",
      "6.035608621222174\n",
      "14\n"
     ]
    }
   ],
   "source": [
    "#Mean age\n",
    "print(ages.mean())\n",
    "print(ages.std())\n",
    "print(len(ages))"
   ]
  },
  {
   "cell_type": "code",
   "execution_count": 32,
   "metadata": {},
   "outputs": [
    {
     "name": "stdout",
     "output_type": "stream",
     "text": [
      "T Statistic: 0.5973799001456603\n",
      "P Value: 0.5605155888171379\n",
      "Accept H0 - Average age is 30\n"
     ]
    }
   ],
   "source": [
    "#Performing one sample T Test\n",
    "t, pval = ttest_1samp(ages,30)\n",
    "print('T Statistic:', t)\n",
    "print('P Value:', pval)\n",
    "\n",
    "#Interpretation\n",
    "if pval<0.05:\n",
    "    print('Accept H1 - Average age is not 30')\n",
    "else:\n",
    "    print('Accept H0 - Average age is 30')"
   ]
  },
  {
   "cell_type": "code",
   "execution_count": 19,
   "metadata": {},
   "outputs": [
    {
     "name": "stdout",
     "output_type": "stream",
     "text": [
      "T Statistic: 0.0\n",
      "P Value: 1.0\n",
      "Accept H0 - Average age is 31\n"
     ]
    }
   ],
   "source": [
    "#Performing one sample T Test\n",
    "t, pval = ttest_1samp(ages,31)\n",
    "print('T Statistic:', t)\n",
    "print('P Value:', pval)\n",
    "\n",
    "#Interpretation\n",
    "if pval<0.05:\n",
    "    print('Accept H1 - Average age is not 31')\n",
    "else:\n",
    "    print('Accept H0 - Average age is 31')"
   ]
  },
  {
   "cell_type": "markdown",
   "metadata": {},
   "source": [
    "# Manual"
   ]
  },
  {
   "cell_type": "code",
   "execution_count": 9,
   "metadata": {},
   "outputs": [],
   "source": [
    "population_mean = 30.0\n",
    "sample_mean = ages.mean()\n",
    "sample_std = ages.std()\n",
    "n = len(ages)"
   ]
  },
  {
   "cell_type": "code",
   "execution_count": 12,
   "metadata": {},
   "outputs": [
    {
     "data": {
      "text/plain": [
       "0.5973799001456603"
      ]
     },
     "execution_count": 12,
     "metadata": {},
     "output_type": "execute_result"
    }
   ],
   "source": [
    "#Performing one sample t test manually\n",
    "test_statistic = (sample_mean-population_mean)/(sample_std/np.sqrt(n-1))\n",
    "test_statistic"
   ]
  },
  {
   "cell_type": "code",
   "execution_count": 18,
   "metadata": {},
   "outputs": [
    {
     "data": {
      "text/plain": [
       "0.5605155888171379"
      ]
     },
     "execution_count": 18,
     "metadata": {},
     "output_type": "execute_result"
    }
   ],
   "source": [
    "#Computing p value\n",
    "t_dist = t(13)#\n",
    "2*t_dist.cdf(-test_statistic)"
   ]
  }
 ],
 "metadata": {
  "kernelspec": {
   "display_name": "Python 3",
   "language": "python",
   "name": "python3"
  },
  "language_info": {
   "codemirror_mode": {
    "name": "ipython",
    "version": 3
   },
   "file_extension": ".py",
   "mimetype": "text/x-python",
   "name": "python",
   "nbconvert_exporter": "python",
   "pygments_lexer": "ipython3",
   "version": "3.8.6"
  },
  "toc": {
   "base_numbering": 1,
   "nav_menu": {},
   "number_sections": true,
   "sideBar": true,
   "skip_h1_title": false,
   "title_cell": "Table of Contents",
   "title_sidebar": "Contents",
   "toc_cell": false,
   "toc_position": {},
   "toc_section_display": true,
   "toc_window_display": false
  }
 },
 "nbformat": 4,
 "nbformat_minor": 4
}
