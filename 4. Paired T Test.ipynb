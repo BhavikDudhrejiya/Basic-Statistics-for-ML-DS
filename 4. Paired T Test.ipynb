{
 "cells": [
  {
   "cell_type": "markdown",
   "metadata": {},
   "source": [
    "Checking effect of weight loss program.\n",
    "Hypothesis:\n",
    " - H0 - Mean difference between two sample is 0\n",
    " - H1- Mean difference between two sample is not 0\n",
    " \n",
    "Criteria:\n",
    "- if p value<=0.05 - Mean difference between two sample is 0\n",
    "- if P value >0.05 - Mean difference between two sample is not 0"
   ]
  },
  {
   "cell_type": "code",
   "execution_count": 49,
   "metadata": {},
   "outputs": [],
   "source": [
    "#Importing libraries\n",
    "from scipy import stats\n",
    "import numpy as np\n",
    "from scipy.stats import t"
   ]
  },
  {
   "cell_type": "code",
   "execution_count": 4,
   "metadata": {},
   "outputs": [],
   "source": [
    "#Loading data weight before program and weight after program\n",
    "Weight_before = np.array([185,192,206,177,225,168,256,239,199,218])\n",
    "Weight_after = np.array([169,187,193,176,194,171,228,217,204,195])"
   ]
  },
  {
   "cell_type": "code",
   "execution_count": 38,
   "metadata": {},
   "outputs": [
    {
     "data": {
      "text/plain": [
       "(206.5, 193.4)"
      ]
     },
     "execution_count": 38,
     "metadata": {},
     "output_type": "execute_result"
    }
   ],
   "source": [
    "#Checking mean\n",
    "Weight_before.mean(), Weight_after.mean()"
   ]
  },
  {
   "cell_type": "code",
   "execution_count": 39,
   "metadata": {},
   "outputs": [
    {
     "data": {
      "text/plain": [
       "13.099999999999994"
      ]
     },
     "execution_count": 39,
     "metadata": {},
     "output_type": "execute_result"
    }
   ],
   "source": [
    "#Mean Difference\n",
    "Weight_before.mean()-Weight_after.mean()"
   ]
  },
  {
   "cell_type": "code",
   "execution_count": 40,
   "metadata": {},
   "outputs": [
    {
     "name": "stdout",
     "output_type": "stream",
     "text": [
      "T Statistics: 3.180440336417639\n",
      "P Value: 0.011176870661470717\n",
      "Accept H1 - Mean difference between two sample is not 0\n"
     ]
    }
   ],
   "source": [
    "#Perform Paired Test\n",
    "ttest, pval = stats.ttest_rel(Weight_before, Weight_after)\n",
    "print('T Statistics:', ttest)\n",
    "print('P Value:', pval)\n",
    "if pval<=0.05:\n",
    "    print('Accept H1 - Mean difference between two sample is not 0')\n",
    "else:\n",
    "    print('Accept H0 - Mean difference between two sample is 0')"
   ]
  },
  {
   "cell_type": "markdown",
   "metadata": {},
   "source": [
    "# Manual"
   ]
  },
  {
   "cell_type": "code",
   "execution_count": 47,
   "metadata": {},
   "outputs": [],
   "source": [
    "#Creating \n",
    "n = len(Weight_before)\n",
    "mean_diff = sum(Weight_before-Weight_after) / len(Weight_before)\n",
    "std_diff = np.sqrt((sum(((Weight_before-Weight_after)-mean_diff)**2))/(n-1))\n",
    "population_diff = 0\n"
   ]
  },
  {
   "cell_type": "code",
   "execution_count": 48,
   "metadata": {},
   "outputs": [
    {
     "data": {
      "text/plain": [
       "3.180440336417639"
      ]
     },
     "execution_count": 48,
     "metadata": {},
     "output_type": "execute_result"
    }
   ],
   "source": [
    "#Performing paired test \n",
    "t = (mean_diff-population_diff) / (std_diff/np.sqrt(n))\n",
    "t"
   ]
  },
  {
   "cell_type": "code",
   "execution_count": 57,
   "metadata": {},
   "outputs": [
    {
     "data": {
      "text/plain": [
       "0.011176870661470717"
      ]
     },
     "execution_count": 57,
     "metadata": {},
     "output_type": "execute_result"
    }
   ],
   "source": [
    "#Extracting p value from t test\n",
    "t_dist = t(9)\n",
    "pval = 2*t_dist.cdf(-3.180440336417639)\n",
    "pval"
   ]
  }
 ],
 "metadata": {
  "kernelspec": {
   "display_name": "Python 3",
   "language": "python",
   "name": "python3"
  },
  "language_info": {
   "codemirror_mode": {
    "name": "ipython",
    "version": 3
   },
   "file_extension": ".py",
   "mimetype": "text/x-python",
   "name": "python",
   "nbconvert_exporter": "python",
   "pygments_lexer": "ipython3",
   "version": "3.8.6"
  },
  "toc": {
   "base_numbering": 1,
   "nav_menu": {},
   "number_sections": true,
   "sideBar": true,
   "skip_h1_title": false,
   "title_cell": "Table of Contents",
   "title_sidebar": "Contents",
   "toc_cell": false,
   "toc_position": {},
   "toc_section_display": true,
   "toc_window_display": false
  }
 },
 "nbformat": 4,
 "nbformat_minor": 4
}
