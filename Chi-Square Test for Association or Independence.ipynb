{
 "cells": [
  {
   "cell_type": "code",
   "execution_count": 4,
   "metadata": {},
   "outputs": [],
   "source": [
    "#Importing library\n",
    "import pandas as pd\n",
    "import numpy as np\n",
    "from scipy.stats import chi2_contingency\n",
    "from scipy.stats import chi2\n",
    "import seaborn as sns\n",
    "import matplotlib.pyplot as plt\n",
    "%matplotlib inline"
   ]
  },
  {
   "cell_type": "markdown",
   "metadata": {},
   "source": [
    "# Example 1"
   ]
  },
  {
   "cell_type": "code",
   "execution_count": 58,
   "metadata": {},
   "outputs": [
    {
     "data": {
      "text/plain": [
       "[[207, 282, 241], [234, 242, 232]]"
      ]
     },
     "execution_count": 58,
     "metadata": {},
     "output_type": "execute_result"
    }
   ],
   "source": [
    "# defining the table\n",
    "data = [[207, 282, 241], [234, 242, 232]]\n",
    "data"
   ]
  },
  {
   "cell_type": "code",
   "execution_count": 59,
   "metadata": {},
   "outputs": [],
   "source": [
    "#Chi Square test\n",
    "stat, p, dof, expected = chi2_contingency(data)"
   ]
  },
  {
   "cell_type": "code",
   "execution_count": 60,
   "metadata": {},
   "outputs": [
    {
     "name": "stdout",
     "output_type": "stream",
     "text": [
      "p value is 0.1031971404730939\n",
      "Independent (H0 holds true)\n"
     ]
    }
   ],
   "source": [
    "# interpret p-value\n",
    "alpha = 0.05\n",
    "print(\"p value is \" + str(p))\n",
    "if p <= alpha:\n",
    "    print('Dependent (reject H0)')\n",
    "else:\n",
    "    print('Independent (H0 holds true)')"
   ]
  },
  {
   "cell_type": "markdown",
   "metadata": {},
   "source": [
    "# Example 2"
   ]
  },
  {
   "cell_type": "code",
   "execution_count": 63,
   "metadata": {},
   "outputs": [],
   "source": [
    "#Creating data\n",
    "df = pd.DataFrame({'Gender' : ['M', 'M', 'M', 'F', 'F'] * 10,\n",
    "                   'Smoker/Non-Smoker' : ['Smoker', 'Smoker', 'Non-Smoker', 'Non-Smoker', 'Smoker'] * 10\n",
    "                  })"
   ]
  },
  {
   "cell_type": "code",
   "execution_count": 64,
   "metadata": {},
   "outputs": [
    {
     "data": {
      "text/html": [
       "<div>\n",
       "<style scoped>\n",
       "    .dataframe tbody tr th:only-of-type {\n",
       "        vertical-align: middle;\n",
       "    }\n",
       "\n",
       "    .dataframe tbody tr th {\n",
       "        vertical-align: top;\n",
       "    }\n",
       "\n",
       "    .dataframe thead th {\n",
       "        text-align: right;\n",
       "    }\n",
       "</style>\n",
       "<table border=\"1\" class=\"dataframe\">\n",
       "  <thead>\n",
       "    <tr style=\"text-align: right;\">\n",
       "      <th>Smoker/Non-Smoker</th>\n",
       "      <th>Non-Smoker</th>\n",
       "      <th>Smoker</th>\n",
       "    </tr>\n",
       "    <tr>\n",
       "      <th>Gender</th>\n",
       "      <th></th>\n",
       "      <th></th>\n",
       "    </tr>\n",
       "  </thead>\n",
       "  <tbody>\n",
       "    <tr>\n",
       "      <th>F</th>\n",
       "      <td>10</td>\n",
       "      <td>10</td>\n",
       "    </tr>\n",
       "    <tr>\n",
       "      <th>M</th>\n",
       "      <td>10</td>\n",
       "      <td>20</td>\n",
       "    </tr>\n",
       "  </tbody>\n",
       "</table>\n",
       "</div>"
      ],
      "text/plain": [
       "Smoker/Non-Smoker  Non-Smoker  Smoker\n",
       "Gender                               \n",
       "F                          10      10\n",
       "M                          10      20"
      ]
     },
     "execution_count": 64,
     "metadata": {},
     "output_type": "execute_result"
    }
   ],
   "source": [
    "#Creating Contingency Table\n",
    "contigency= pd.crosstab(df['Gender'], df['Smoker/Non-Smoker']) \n",
    "contigency"
   ]
  },
  {
   "cell_type": "code",
   "execution_count": 85,
   "metadata": {},
   "outputs": [],
   "source": [
    "# Creating function for Chi-square test of independence. \n",
    "def chi_square_test(var1,var2):\n",
    "    \n",
    "    #Creating contigency table\n",
    "    contigency= pd.crosstab(var1, var2)\n",
    "    \n",
    "    #Performing chi-square independence/association\n",
    "    c, p, dof, expected = chi2_contingency(contigency)\n",
    "    \n",
    "    #Test Summary\n",
    "    print('Chi Square Test Summary:')\n",
    "    print('Test Statistics  :', c)\n",
    "    print('P-Value          :', p)\n",
    "    print('Degree of Freedom:', dof)\n",
    "    print('Expected Values  :',expected[0],expected[1])\n",
    "    print('~~~~~~~~~~~~~~~~~~~~~~~~~~~~~~~~~~~~~~~~~~~~~~~~~~~~~~~~~~~~~~~~~~~~~~~~~~~~~~~')\n",
    "    \n",
    "    #Conclusion from P values\n",
    "    alpha = 1.0-p\n",
    "    if alpha<=0.05:\n",
    "        print('Conclusion from P values: Dependent (Reject H0)')\n",
    "    else:\n",
    "        print('Conclusion from P values: Independent (Fail to reject H0)')\n",
    "        \n",
    "    #Conclusion from Test statistics\n",
    "    prob = 0.95\n",
    "    critical = chi2.ppf(prob,dof)\n",
    "    if abs(c)>=critical:\n",
    "        print('Conclusion from Test statistics: Dependent (Reject H0)')\n",
    "    else:\n",
    "        print('Conclusion from Test statistics: Independent (Fail to reject H0)')\n",
    "    print('~~~~~~~~~~~~~~~~~~~~~~~~~~~~~~~~~~~~~~~~~~~~~~~~~~~~~~~~~~~~~~~~~~~~~~~~~~~~~~~')    \n",
    "    print('Alpha:',alpha)\n",
    "    print('Confidence Interval:',prob)\n",
    "    print('Significance Level:', round(1-prob,4))\n",
    "    print('Critical Value:',critical)"
   ]
  },
  {
   "cell_type": "code",
   "execution_count": 86,
   "metadata": {},
   "outputs": [
    {
     "name": "stdout",
     "output_type": "stream",
     "text": [
      "Chi Square Test Summary:\n",
      "Test Statistics  : 0.78125\n",
      "P-Value          : 0.3767591178115821\n",
      "Degree of Freedom: 1\n",
      "Expected Values  : [ 8. 12.] [12. 18.]\n",
      "~~~~~~~~~~~~~~~~~~~~~~~~~~~~~~~~~~~~~~~~~~~~~~~~~~~~~~~~~~~~~~~~~~~~~~~~~~~~~~~\n",
      "Conclusion from P values: Independent (Fail to reject H0)\n",
      "Conclusion from Test statistics: Independent (Fail to reject H0)\n",
      "~~~~~~~~~~~~~~~~~~~~~~~~~~~~~~~~~~~~~~~~~~~~~~~~~~~~~~~~~~~~~~~~~~~~~~~~~~~~~~~\n",
      "Alpha: 0.6232408821884179\n",
      "Confidence Interval: 0.95\n",
      "Significance Level: 0.05\n",
      "Critical Value: 3.841458820694124\n"
     ]
    }
   ],
   "source": [
    "#Performing chi squre test\n",
    "chi_square_test(df['Gender'],df['Smoker/Non-Smoker'])"
   ]
  },
  {
   "cell_type": "code",
   "execution_count": null,
   "metadata": {},
   "outputs": [],
   "source": []
  }
 ],
 "metadata": {
  "kernelspec": {
   "display_name": "Python 3",
   "language": "python",
   "name": "python3"
  },
  "language_info": {
   "codemirror_mode": {
    "name": "ipython",
    "version": 3
   },
   "file_extension": ".py",
   "mimetype": "text/x-python",
   "name": "python",
   "nbconvert_exporter": "python",
   "pygments_lexer": "ipython3",
   "version": "3.8.6"
  },
  "toc": {
   "base_numbering": 1,
   "nav_menu": {},
   "number_sections": true,
   "sideBar": true,
   "skip_h1_title": false,
   "title_cell": "Table of Contents",
   "title_sidebar": "Contents",
   "toc_cell": false,
   "toc_position": {},
   "toc_section_display": true,
   "toc_window_display": false
  }
 },
 "nbformat": 4,
 "nbformat_minor": 4
}
