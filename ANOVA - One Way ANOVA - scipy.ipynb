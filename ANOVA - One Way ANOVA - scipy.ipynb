{
 "cells": [
  {
   "cell_type": "markdown",
   "metadata": {},
   "source": [
    "Hypothesis:\n",
    " - H0 = No difference among mean between A,B & C\n",
    " - H1 = Difference among mean between A,B & C\n",
    " \n",
    "Criteria:\n",
    "- P>0.05 - Failed to reject H0\n",
    "- P<=0.05 - reject H0"
   ]
  },
  {
   "cell_type": "code",
   "execution_count": 51,
   "metadata": {},
   "outputs": [],
   "source": [
    "#Importing libraries\n",
    "import pandas as pd\n",
    "import numpy as np\n",
    "import scipy.stats as stats"
   ]
  },
  {
   "cell_type": "markdown",
   "metadata": {},
   "source": [
    "# Example 1"
   ]
  },
  {
   "cell_type": "code",
   "execution_count": 89,
   "metadata": {},
   "outputs": [],
   "source": [
    "#Creating data\n",
    "data = pd.DataFrame()\n",
    "data['A'] = [10,9,6,7]\n",
    "data['B'] = [8,4,6,7]\n",
    "data['C'] = [4,3,6,4]"
   ]
  },
  {
   "cell_type": "code",
   "execution_count": 190,
   "metadata": {},
   "outputs": [
    {
     "name": "stdout",
     "output_type": "stream",
     "text": [
      "ONE-WAY ANOVA SUMMARY:\n",
      "1.F_Statistics                    =  5.3936170212765955\n",
      "2.P_Value                         =  0.02886412420631141\n",
      "3.Degree of freedom within class  =  9\n",
      "4.Degree of freedom between class =  2\n",
      "5.Confidence level                =  0.95\n",
      "6.Significance level              =  0.05\n",
      "7.Critical value                  =  4.25649472909375\n",
      "8.Conclusion from P-value         = Difference amongs mean between groups - Reject H0\n",
      "9.Conclusion from F-statistic     = Difference amongs mean between groups - Reject H0\n"
     ]
    }
   ],
   "source": [
    "#Performing anova\n",
    "F_Statistics, P_Value = stats.f_oneway(data['A'],data['B'],data['C'])\n",
    "\n",
    "#Degree of freedom within and degree of freedom between\n",
    "df_within = data.shape[0]*data.shape[1]-data.shape[1]\n",
    "df_between = data.shape[1]-1\n",
    "\n",
    "#Confidence level & significance level\n",
    "confidence_level = 0.95\n",
    "significance_level = 0.05\n",
    "\n",
    "#Computing critical value\n",
    "critical = stats.f.ppf(confidence_level, df_between, df_within)\n",
    "##############################################################################################################################\n",
    "print('ONE-WAY ANOVA SUMMARY:')\n",
    "print('1.F_Statistics                    = ', F_Statistics)\n",
    "print('2.P_Value                         = ', P_Value)\n",
    "print('3.Degree of freedom within class  = ', df_within)\n",
    "print('4.Degree of freedom between class = ', df_between)\n",
    "print('5.Confidence level                = ', confidence_level)\n",
    "print('6.Significance level              = ', significance_level)\n",
    "print('7.Critical value                  = ',critical)\n",
    "if P_Value<=significance_level:\n",
    "    print('8.Conclusion from P-value         = Difference amongs mean between groups - Reject H0')\n",
    "else:\n",
    "    print('8.Conclusion from P-value         = No difference amongs mean between groups - Failed to reject H0')\n",
    "    \n",
    "#Interpretation from F-statistic\n",
    "if F_Statistics>critical:\n",
    "    print('9.Conclusion from F-statistic     = Difference amongs mean between groups - Reject H0')\n",
    "else:\n",
    "    print('9.Conclusion from F-statistic     = No difference amongs mean between groups - Failed to reject H0')"
   ]
  },
  {
   "cell_type": "markdown",
   "metadata": {},
   "source": [
    "# Example 2"
   ]
  },
  {
   "cell_type": "code",
   "execution_count": 191,
   "metadata": {},
   "outputs": [
    {
     "data": {
      "text/plain": [
       "mean radius                 14.127292\n",
       "mean texture                19.289649\n",
       "mean perimeter              91.969033\n",
       "mean area                  654.889104\n",
       "mean smoothness              0.096360\n",
       "mean compactness             0.104341\n",
       "mean concavity               0.088799\n",
       "mean concave points          0.048919\n",
       "mean symmetry                0.181162\n",
       "mean fractal dimension       0.062798\n",
       "radius error                 0.405172\n",
       "texture error                1.216853\n",
       "perimeter error              2.866059\n",
       "area error                  40.337079\n",
       "smoothness error             0.007041\n",
       "compactness error            0.025478\n",
       "concavity error              0.031894\n",
       "concave points error         0.011796\n",
       "symmetry error               0.020542\n",
       "fractal dimension error      0.003795\n",
       "worst radius                16.269190\n",
       "worst texture               25.677223\n",
       "worst perimeter            107.261213\n",
       "worst area                 880.583128\n",
       "worst smoothness             0.132369\n",
       "worst compactness            0.254265\n",
       "worst concavity              0.272188\n",
       "worst concave points         0.114606\n",
       "worst symmetry               0.290076\n",
       "worst fractal dimension      0.083946\n",
       "target                       0.627417\n",
       "dtype: float64"
      ]
     },
     "execution_count": 191,
     "metadata": {},
     "output_type": "execute_result"
    }
   ],
   "source": [
    "#Loading data\n",
    "data2 = pd.read_csv('C:/Users/bhavi/OneDrive/Desktop/Data/Breast_Cancer.csv')\n",
    "data2.mean()"
   ]
  },
  {
   "cell_type": "code",
   "execution_count": 192,
   "metadata": {},
   "outputs": [
    {
     "name": "stdout",
     "output_type": "stream",
     "text": [
      "ONE-WAY ANOVA SUMMARY:\n",
      "1.F_Statistics                    =  211.55244548776693\n",
      "2.P_Value                         =  8.628652335142034e-83\n",
      "3.Degree of freedom within class  =  1704\n",
      "4.Degree of freedom between class =  2\n",
      "5.Confidence level                =  0.95\n",
      "6.Significance level              =  0.05\n",
      "7.Critical value                  =  3.0010051253561265\n",
      "8.Conclusion from P-value         = Difference amongs mean between groups - Reject H0\n",
      "9.Conclusion from F-statistic     = Difference amongs mean between groups - Reject H0\n"
     ]
    }
   ],
   "source": [
    "#Performing anova\n",
    "F_Statistics, P_Value = stats.f_oneway(data2['mean radius'],data2['mean texture'],data2['worst radius'])\n",
    "\n",
    "#Degree of freedom within and degree of freedom between\n",
    "df = data2[['mean radius', 'mean texture', 'worst radius']]\n",
    "df_within = df.shape[0]*df.shape[1]-df.shape[1]\n",
    "df_between = df.shape[1]-1\n",
    "\n",
    "#Confidence level & significance level\n",
    "confidence_level = 0.95\n",
    "significance_level = 0.05\n",
    "\n",
    "#Computing critical value\n",
    "critical = stats.f.ppf(confidence_level, df_between, df_within)\n",
    "##############################################################################################################################\n",
    "print('ONE-WAY ANOVA SUMMARY:')\n",
    "print('1.F_Statistics                    = ', F_Statistics)\n",
    "print('2.P_Value                         = ', P_Value)\n",
    "print('3.Degree of freedom within class  = ', df_within)\n",
    "print('4.Degree of freedom between class = ', df_between)\n",
    "print('5.Confidence level                = ', confidence_level)\n",
    "print('6.Significance level              = ', significance_level)\n",
    "print('7.Critical value                  = ',critical)\n",
    "if P_Value<=significance_level:\n",
    "    print('8.Conclusion from P-value         = Difference amongs mean between groups - Reject H0')\n",
    "else:\n",
    "    print('8.Conclusion from P-value         = No difference amongs mean between groups - Failed to reject H0')\n",
    "    \n",
    "#Interpretation from F-statistic\n",
    "if F_Statistics>critical:\n",
    "    print('9.Conclusion from F-statistic     = Difference amongs mean between groups - Reject H0')\n",
    "else:\n",
    "    print('9.Conclusion from F-statistic     = No difference amongs mean between groups - Failed to reject H0')"
   ]
  },
  {
   "cell_type": "markdown",
   "metadata": {},
   "source": [
    "# Example 3"
   ]
  },
  {
   "cell_type": "code",
   "execution_count": 173,
   "metadata": {},
   "outputs": [
    {
     "data": {
      "text/plain": [
       "A    2.000000\n",
       "B    3.333333\n",
       "C    2.000000\n",
       "dtype: float64"
      ]
     },
     "execution_count": 173,
     "metadata": {},
     "output_type": "execute_result"
    }
   ],
   "source": [
    "#Creating data\n",
    "data3 = pd.DataFrame()\n",
    "data3['A'] = [3,1,2]\n",
    "data3['B'] = [5,2,3]\n",
    "data3['C'] = [2,1,3]\n",
    "data3.mean()"
   ]
  },
  {
   "cell_type": "code",
   "execution_count": 193,
   "metadata": {},
   "outputs": [
    {
     "name": "stdout",
     "output_type": "stream",
     "text": [
      "ONE-WAY ANOVA SUMMARY:\n",
      "1.F_Statistics                    =  1.2307692307692306\n",
      "2.P_Value                         =  0.35653794139744555\n",
      "3.Degree of freedom within class  =  6\n",
      "4.Degree of freedom between class =  2\n",
      "5.Confidence level                =  0.95\n",
      "6.Significance level              =  0.05\n",
      "7.Critical value                  =  5.143252849784718\n",
      "8.Conclusion from P-value         = No difference amongs mean between groups - Failed to reject H0\n",
      "9.Conclusion from F-statistic     = No difference amongs mean between groups - Failed to reject H0\n"
     ]
    }
   ],
   "source": [
    "#Performing anova\n",
    "F_Statistics, P_Value = stats.f_oneway(data3['A'],data3['B'],data3['C'])\n",
    "\n",
    "#Degree of freedom within and degree of freedom between\n",
    "df_within = data3.shape[0]*data3.shape[1]-data3.shape[1]\n",
    "df_between = data3.shape[1]-1\n",
    "\n",
    "#Confidence level & significance level\n",
    "confidence_level = 0.95\n",
    "significance_level = 0.05\n",
    "\n",
    "#Computing critical value\n",
    "critical = stats.f.ppf(confidence_level, df_between, df_within)\n",
    "##############################################################################################################################\n",
    "print('ONE-WAY ANOVA SUMMARY:')\n",
    "print('1.F_Statistics                    = ', F_Statistics)\n",
    "print('2.P_Value                         = ', P_Value)\n",
    "print('3.Degree of freedom within class  = ', df_within)\n",
    "print('4.Degree of freedom between class = ', df_between)\n",
    "print('5.Confidence level                = ', confidence_level)\n",
    "print('6.Significance level              = ', significance_level)\n",
    "print('7.Critical value                  = ',critical)\n",
    "if P_Value<=significance_level:\n",
    "    print('8.Conclusion from P-value         = Difference amongs mean between groups - Reject H0')\n",
    "else:\n",
    "    print('8.Conclusion from P-value         = No difference amongs mean between groups - Failed to reject H0')\n",
    "    \n",
    "#Interpretation from F-statistic\n",
    "if F_Statistics>critical:\n",
    "    print('9.Conclusion from F-statistic     = Difference amongs mean between groups - Reject H0')\n",
    "else:\n",
    "    print('9.Conclusion from F-statistic     = No difference amongs mean between groups - Failed to reject H0')"
   ]
  }
 ],
 "metadata": {
  "kernelspec": {
   "display_name": "Python 3",
   "language": "python",
   "name": "python3"
  },
  "language_info": {
   "codemirror_mode": {
    "name": "ipython",
    "version": 3
   },
   "file_extension": ".py",
   "mimetype": "text/x-python",
   "name": "python",
   "nbconvert_exporter": "python",
   "pygments_lexer": "ipython3",
   "version": "3.8.6"
  },
  "toc": {
   "base_numbering": 1,
   "nav_menu": {},
   "number_sections": true,
   "sideBar": true,
   "skip_h1_title": false,
   "title_cell": "Table of Contents",
   "title_sidebar": "Contents",
   "toc_cell": false,
   "toc_position": {},
   "toc_section_display": true,
   "toc_window_display": false
  }
 },
 "nbformat": 4,
 "nbformat_minor": 4
}
