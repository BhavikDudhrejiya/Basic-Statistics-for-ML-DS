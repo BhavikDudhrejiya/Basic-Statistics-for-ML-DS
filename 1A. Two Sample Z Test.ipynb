{
 "cells": [
  {
   "cell_type": "code",
   "execution_count": 1,
   "metadata": {},
   "outputs": [],
   "source": [
    "#Importing libraries\n",
    "import pandas as pd\n",
    "import numpy as np\n",
    "from scipy import stats\n",
    "from statsmodels.stats import weightstats as stests"
   ]
  },
  {
   "cell_type": "code",
   "execution_count": 2,
   "metadata": {},
   "outputs": [],
   "source": [
    "#Loading data\n",
    "Field1 = np.array([15.2,15.3,16.0,15.8,15.6,14.9,15.0,15.4,15.6,15.7,15.5,15.2,15.5,15.1,15.3,15.0])\n",
    "Field2 = np.array([15.9,15.9,15.2,16.6,15.2,15.8,15.8,16.2,15.6,15.6,15.8,15.5,15.5,15.5,14.9,15.9])"
   ]
  },
  {
   "cell_type": "code",
   "execution_count": 3,
   "metadata": {},
   "outputs": [
    {
     "name": "stdout",
     "output_type": "stream",
     "text": [
      "15.381250000000001 15.68125\n"
     ]
    }
   ],
   "source": [
    "#Checking mean\n",
    "print(Field1.mean(), Field2.mean())"
   ]
  },
  {
   "cell_type": "code",
   "execution_count": 10,
   "metadata": {},
   "outputs": [
    {
     "name": "stdout",
     "output_type": "stream",
     "text": [
      "Z statistic: -2.338821384818735\n",
      "P value: 0.01934467948801981\n",
      "Accept H0 - Both have same mean\n"
     ]
    }
   ],
   "source": [
    "#Performing Z test\n",
    "ztest ,pval = stests.ztest(Field1, x2=Field2, value=0, alternative='two-sided')\n",
    "print('Z statistic:', ztest)\n",
    "print('P value:', pval)\n",
    "\n",
    "if pval<=0.05:\n",
    "    print('Accept H0 - Both have same mean')\n",
    "else:\n",
    "    print('Accept H1 - Both have different mean')"
   ]
  }
 ],
 "metadata": {
  "kernelspec": {
   "display_name": "Python 3",
   "language": "python",
   "name": "python3"
  },
  "language_info": {
   "codemirror_mode": {
    "name": "ipython",
    "version": 3
   },
   "file_extension": ".py",
   "mimetype": "text/x-python",
   "name": "python",
   "nbconvert_exporter": "python",
   "pygments_lexer": "ipython3",
   "version": "3.8.6"
  },
  "toc": {
   "base_numbering": 1,
   "nav_menu": {},
   "number_sections": true,
   "sideBar": true,
   "skip_h1_title": false,
   "title_cell": "Table of Contents",
   "title_sidebar": "Contents",
   "toc_cell": false,
   "toc_position": {},
   "toc_section_display": true,
   "toc_window_display": false
  }
 },
 "nbformat": 4,
 "nbformat_minor": 4
}
